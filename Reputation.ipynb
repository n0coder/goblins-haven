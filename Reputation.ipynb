{
 "cells": [
  {
   "attachments": {},
   "cell_type": "markdown",
   "metadata": {},
   "source": [
    "# TODO: \n",
    "### edit mode: \n",
    "- new, save, save as, load map buttons"
   ]
  },
  {
   "attachments": {},
   "cell_type": "markdown",
   "metadata": {},
   "source": [
    "# Storyline: The Search for the Teddy Bear or Rubber Skeleton Toy\n",
    "You play as a young adventurer who is on a quest to find the legendary teddy bear or rubber skeleton toy, a special toy that is said to bring good luck and happiness to whoever finds it.\n",
    "\n",
    "### The Journey\n",
    "Your journey takes you through a network of caves, where you encounter a variety of silly creatures and obstacles, including:\n",
    "\n",
    "- Wibblywobbles\n",
    "- Squiggles\n",
    "- Bloopgoblins\n",
    "- Gloomygoos\n",
    "You'll need to use your wits and weapons to overcome these challenges and progress deeper into the caves.\n",
    "\n",
    "### The Chamber\n",
    "Finally, you reach a chamber deep within the caves where the teddy bear or rubber skeleton toy is said to be hidden. However, you quickly discover that it's guarded by a powerful monster. You'll need to defeat the monster if you want to claim the toy for yourself.\n",
    "\n",
    "### Return to the Surface\n",
    "With the teddy bear or rubber skeleton toy in hand, you return to the surface and share your story with the world. Your journey has not only earned you fame and fortune, but it has also brought you great joy and happiness, knowing that you've accomplished your goal."
   ]
  },
  {
   "attachments": {},
   "cell_type": "markdown",
   "metadata": {},
   "source": [
    "# Reputation System\n",
    "The reputation system in this RPG allows players to build their reputation with the goblins and humans, and potentially bring the two groups together.\n",
    "\n",
    "### How It Works\n",
    "Players can increase their reputation with the goblins and humans by completing quests, performing tasks, and helping out with various activities. The more the player helps each group, the higher their reputation will be with that group.\n",
    "\n",
    "Players start off with a neutral reputation with both the goblins and humans. As they complete quests and interact with each group, their reputation will increase or decrease depending on their actions.\n",
    "\n",
    "#### Goblin Reputation\n",
    "To increase their reputation with the goblins, players can:\n",
    "\n",
    "- Complete quests given by goblin NPCs\n",
    "- Help the goblins with various tasks, such as gathering resources, building structures, or defending against enemies\n",
    "- Use GoblinAI to create useful tools or weapons for the goblins\n",
    "- Respect and value the goblins' culture and traditions\n",
    "\n",
    "To decrease their reputation with the goblins, players can:\n",
    "\n",
    "- Steal from the goblins or harm their community\n",
    "- Refuse to help the goblins or complete their quests\n",
    "- Insult or disrespect the goblins' culture or traditions\n",
    "\n",
    "#### Human Reputation\n",
    "To increase their reputation with the humans, players can:\n",
    "\n",
    "Complete quests given by human NPCs\n",
    "Help the humans with various tasks, such as gathering resources, building structures, or defending against enemies\n",
    "Use GoblinAI to create useful tools or weapons for the humans\n",
    "Respect and value the humans' culture and traditions\n",
    "To decrease their reputation with the humans, players can:\n",
    "\n",
    "Steal from the humans or harm their community\n",
    "Refuse to help the humans or complete their quests\n",
    "Insult or disrespect the humans' culture or traditions\n",
    "\n",
    "## Bringing the Goblins and Humans Together\n",
    "As the player builds their reputation with both the goblins and humans, they may start to notice tensions between the two groups. The player can use their reputation and diplomatic skills to mediate conflicts and find common ground between the two groups.\n",
    "\n",
    "If the player builds up enough reputation with both the goblins and humans, they may be able to convince the two groups to work together and form an alliance against a common enemy or threat. The success of the player's efforts will depend on their reputation, negotiation skills, and ability to bring the two groups together."
   ]
  },
  {
   "attachments": {},
   "cell_type": "markdown",
   "metadata": {},
   "source": [
    "# Grid Class\n",
    "The Grid class represents a grid of tiles in a game. It has the following properties and methods:\n",
    "\n",
    "### Properties:\n",
    "- 'possibleTiles': An array of Tile objects that are possible to be placed in the grid.\n",
    "- 'grid': A two-dimensional array that represents the grid of tiles.\n",
    "- 'tileSize': The size of each tile in pixels.\n",
    "- 'gridSize': An array that contains the number of columns and rows in the grid.\n",
    "\n",
    "### Methods:\n",
    "- constructor(possibleTiles, tileSize): A constructor method that initializes the Grid object.\n",
    "- generateGrid(lookupTexture): A method that generates a grid by reading pixel values from a texture and placing the corresponding tiles in the grid.\n",
    "- findSize(): A method that finds the size of the grid.\n",
    "- placeTile(tile, x, y): A method that places a tile in the grid.\n",
    "- getGridCoords(x, y, camera, p5): A method that returns the grid coordinates of a given point in the game world, taking into account the camera position.\n",
    "- getTile(gridX, gridY): A method that retrieves a tile from the grid.\n",
    "isValidGridPosition(numCols, numRows, gridX, gridY): A method that checks whether a given grid position is within the bounds of the grid.\n",
    "- renderGrid(): A method that renders the grid by drawing each tile in the appropriate position.\n",
    "\n",
    "The Grid class can be used to create and manage a grid of tiles in a game. It uses a lookup texture to determine the type of tile to place in each grid cell. The Grid object has methods for retrieving and placing tiles, as well as checking the validity of grid positions. It can also be used to render the grid by drawing each tile in the appropriate position."
   ]
  }
 ],
 "metadata": {
  "kernelspec": {
   "display_name": "Python 3",
   "language": "python",
   "name": "python3"
  },
  "language_info": {
   "name": "python",
   "version": "3.11.1 (main, Dec 31 2022, 10:23:59) [GCC 12.2.0]"
  },
  "orig_nbformat": 4,
  "vscode": {
   "interpreter": {
    "hash": "ead1b95f633dc9c51826328e1846203f51a198c6fb5f2884a80417ba131d4e82"
   }
  }
 },
 "nbformat": 4,
 "nbformat_minor": 2
}
